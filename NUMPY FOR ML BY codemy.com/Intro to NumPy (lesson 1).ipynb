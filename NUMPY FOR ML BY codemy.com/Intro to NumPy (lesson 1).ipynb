{
 "cells": [
  {
   "cell_type": "code",
   "execution_count": 4,
   "id": "323ab440-a5ff-47e8-b7c0-060f321d953e",
   "metadata": {},
   "outputs": [
    {
     "name": "stdout",
     "output_type": "stream",
     "text": [
      "[0 1 2 3 4 5 6 7 8 9]\n"
     ]
    }
   ],
   "source": [
    "# NumPy is just a special type of array in python\n",
    "# NumPy = Numeric Python\n",
    "# Anything in NumPy has to be of the same dt\n",
    "\n",
    "import numpy as np\n",
    "\n",
    "# Creating 1-D array\n",
    "np1 = np.array([0, 1, 2, 3, 4, 5, 6, 7, 8, 9])\n",
    "print(np1)"
   ]
  },
  {
   "cell_type": "code",
   "execution_count": 5,
   "id": "fc583330-01d3-46c5-bbe6-cedee29d933e",
   "metadata": {},
   "outputs": [
    {
     "name": "stdout",
     "output_type": "stream",
     "text": [
      "(10,)\n"
     ]
    }
   ],
   "source": [
    "# Functions in NumPy\n",
    "\n",
    "# .shape: (rows, columns)\n",
    "print(np1.shape)\n"
   ]
  },
  {
   "cell_type": "code",
   "execution_count": 7,
   "id": "c4318d10-f67b-41b6-9281-0f26c907218a",
   "metadata": {},
   "outputs": [
    {
     "name": "stdout",
     "output_type": "stream",
     "text": [
      "[0 1 2 3 4 5 6 7 8 9]\n"
     ]
    }
   ],
   "source": [
    "# Create a range np1\n",
    "np2 = np.arange(10) # gen 0 to 9\n",
    "print(np2)"
   ]
  },
  {
   "cell_type": "code",
   "execution_count": 8,
   "id": "b9a8c81e-af1d-432b-b440-1ea4f1e7ca58",
   "metadata": {},
   "outputs": [
    {
     "name": "stdout",
     "output_type": "stream",
     "text": [
      "[ 1  5  9 13 17 21 25 29 33 37 41 45 49]\n"
     ]
    }
   ],
   "source": [
    "np2 = np.arange(1, 50, 4)  # press SHIFT + TAB  to see info\n",
    "print(np2)"
   ]
  },
  {
   "cell_type": "code",
   "execution_count": 9,
   "id": "dbbd978e-cc67-413a-90e2-4e5a81eff8a7",
   "metadata": {},
   "outputs": [
    {
     "name": "stdout",
     "output_type": "stream",
     "text": [
      "[0. 0. 0. 0. 0. 0. 0. 0. 0. 0.]\n"
     ]
    }
   ],
   "source": [
    "# Create an array of zeros \n",
    "np3 = np.zeros(10)  # press SHIFT + TAB  to see info\n",
    "print(np3)\n"
   ]
  },
  {
   "cell_type": "code",
   "execution_count": 13,
   "id": "6588d45a-fe76-4d73-a607-a08236a3b5a7",
   "metadata": {},
   "outputs": [
    {
     "name": "stdout",
     "output_type": "stream",
     "text": [
      "[[5 5 5 5 5 5]\n",
      " [5 5 5 5 5 5]\n",
      " [5 5 5 5 5 5]\n",
      " [5 5 5 5 5 5]\n",
      " [5 5 5 5 5 5]]\n"
     ]
    }
   ],
   "source": [
    "# Multidimensional array\n",
    "\n",
    "np4 = np.full((5, 6), 5)  # press SHIFT + TAB  to see info\n",
    "print(np4)"
   ]
  },
  {
   "cell_type": "code",
   "execution_count": 15,
   "id": "237aa34e-b9fe-4c7a-9a40-896676f64850",
   "metadata": {},
   "outputs": [
    {
     "name": "stdout",
     "output_type": "stream",
     "text": [
      "[1, 3, 5, 7, 9]\n",
      "[1 3 5 7 9]\n"
     ]
    }
   ],
   "source": [
    "# Converting Python list to NumPy\n",
    "\n",
    "np5 = [1, 3, 5, 7, 9]\n",
    "np6 = np.array(np5)\n",
    "print(np5)\n",
    "print(np6)"
   ]
  },
  {
   "cell_type": "code",
   "execution_count": 16,
   "id": "6ea00bd2-dc5d-4d02-8c0c-d7fae8ee15ee",
   "metadata": {},
   "outputs": [
    {
     "name": "stdout",
     "output_type": "stream",
     "text": [
      "7\n"
     ]
    }
   ],
   "source": [
    "# Assessing element via indexing\n",
    "print(np5[3])"
   ]
  },
  {
   "cell_type": "code",
   "execution_count": null,
   "id": "283c6ace-4b5e-4834-b885-7ff9cd195e76",
   "metadata": {},
   "outputs": [],
   "source": []
  }
 ],
 "metadata": {
  "kernelspec": {
   "display_name": "Python [conda env:base] *",
   "language": "python",
   "name": "conda-base-py"
  },
  "language_info": {
   "codemirror_mode": {
    "name": "ipython",
    "version": 3
   },
   "file_extension": ".py",
   "mimetype": "text/x-python",
   "name": "python",
   "nbconvert_exporter": "python",
   "pygments_lexer": "ipython3",
   "version": "3.13.5"
  }
 },
 "nbformat": 4,
 "nbformat_minor": 5
}
