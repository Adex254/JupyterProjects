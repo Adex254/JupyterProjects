{
 "cells": [
  {
   "cell_type": "code",
   "execution_count": null,
   "id": "2bffe0d0-b43b-42a5-900c-74da909392ac",
   "metadata": {},
   "outputs": [],
   "source": [
    "import pandas as pd\n",
    "import numpy as np\n",
    "%matplotlib inline\n",
    "\n",
    "csv_file = pd.read_csv(r\"C:\\Users\\adead\\Downloads\\csv dataset for practice\\diabetes.csv\")\n",
    "df = pd.DataFrame(csv_file)\n",
    "\n",
    "df.head(20)"
   ]
  },
  {
   "cell_type": "code",
   "execution_count": null,
   "id": "5a784780-076e-4e23-a9f1-0e399f62e2af",
   "metadata": {},
   "outputs": [],
   "source": [
    "# bar plot - vetical bar\n",
    "df.plot(kind = \"bar\")"
   ]
  },
  {
   "cell_type": "code",
   "execution_count": null,
   "id": "22643191-f3ed-4ce3-b00d-4120c78f6d22",
   "metadata": {},
   "outputs": [],
   "source": [
    "# bar plot - Stacked\n",
    "df.plot(kind = \"bar\", stacked = True)"
   ]
  },
  {
   "cell_type": "code",
   "execution_count": null,
   "id": "31acf709-6207-48b1-a976-e53d81f113b9",
   "metadata": {},
   "outputs": [],
   "source": [
    "# Alternatively\n",
    "df.plot.bar()"
   ]
  },
  {
   "cell_type": "code",
   "execution_count": null,
   "id": "3a5ac846-a7bb-4232-8e16-79f40c22d72a",
   "metadata": {},
   "outputs": [],
   "source": [
    "# horizontal bar plot\n",
    "df.plot(kind=\"barh\")"
   ]
  },
  {
   "cell_type": "code",
   "execution_count": null,
   "id": "46c771ac-a34c-45a9-ada6-abb53013d28f",
   "metadata": {},
   "outputs": [],
   "source": [
    "# parameters\n",
    "df.plot(kind=\"bar\", alpha = 0.75, grid = True, figsize = (12, 6), title = \"My Bar Plot\", legend = True, \n",
    "ylabel = \"Frequency\", table = True)"
   ]
  },
  {
   "cell_type": "code",
   "execution_count": null,
   "id": "0bedf004-3150-4c76-afce-24f281d794b5",
   "metadata": {},
   "outputs": [],
   "source": [
    "import matplotlib.pyplot as plt\n",
    "import numpy as np\n",
    "\n",
    "x = np.linspace(0, 10, 100)\n",
    "y = np.sin(x)\n",
    "\n",
    "plt.plot(x, y)\n",
    "plt.title(\"Matplotlib Test\")\n",
    "plt.show()"
   ]
  },
  {
   "cell_type": "code",
   "execution_count": null,
   "id": "1c7b9784-b6ca-4230-b22d-8f7debe23697",
   "metadata": {},
   "outputs": [],
   "source": []
  }
 ],
 "metadata": {
  "kernelspec": {
   "display_name": "Python [conda env:base] *",
   "language": "python",
   "name": "conda-base-py"
  },
  "language_info": {
   "codemirror_mode": {
    "name": "ipython",
    "version": 3
   },
   "file_extension": ".py",
   "mimetype": "text/x-python",
   "name": "python",
   "nbconvert_exporter": "python",
   "pygments_lexer": "ipython3",
   "version": "3.13.5"
  }
 },
 "nbformat": 4,
 "nbformat_minor": 5
}
