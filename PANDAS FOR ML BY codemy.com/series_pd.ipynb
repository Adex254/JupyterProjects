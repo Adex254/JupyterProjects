{
 "cells": [
  {
   "cell_type": "code",
   "execution_count": 3,
   "id": "49741da4-662b-4121-9437-54baafd1eb29",
   "metadata": {},
   "outputs": [
    {
     "data": {
      "text/plain": [
       "Jan      1\n",
       "Feb      2\n",
       "Mar      3\n",
       "April    4\n",
       "May      5\n",
       "Name: Months, dtype: int64"
      ]
     },
     "execution_count": 3,
     "metadata": {},
     "output_type": "execute_result"
    }
   ],
   "source": [
    "# Series: 1-D array\n",
    "\n",
    "import pandas as pd\n",
    "import numpy as np\n",
    "\n",
    "list = [1, 2, 3, 4, 5]\n",
    "series = pd.Series(list)\n",
    "series\n",
    "# press SHIFT + TAB  to see info on Series()\n",
    "\n",
    "\n",
    "\n",
    "\n",
    "\n"
   ]
  },
  {
   "cell_type": "code",
   "execution_count": 5,
   "id": "440d9fc9-dc45-4c01-ad5f-c37479a26a68",
   "metadata": {},
   "outputs": [
    {
     "data": {
      "text/plain": [
       "Jan      1\n",
       "Feb      2\n",
       "Mar      3\n",
       "April    4\n",
       "May      5\n",
       "Name: Months, dtype: int64"
      ]
     },
     "execution_count": 5,
     "metadata": {},
     "output_type": "execute_result"
    }
   ],
   "source": [
    "# Creating Headings by using index arguments\n",
    "series2 = pd.Series(series, index=[\"Jan\", \"Feb\", \"Mar\",\"April\", \"May\"])\n",
    "series2"
   ]
  },
  {
   "cell_type": "code",
   "execution_count": 9,
   "id": "58292d9c-c29c-4713-8ac8-efb169e2ae40",
   "metadata": {},
   "outputs": [
    {
     "data": {
      "text/plain": [
       "MTH101             75\n",
       "CHM101             60\n",
       "PHY101            100\n",
       "TPD101    ENGINEERING\n",
       "Name: GRADES, dtype: object"
      ]
     },
     "execution_count": 9,
     "metadata": {},
     "output_type": "execute_result"
    }
   ],
   "source": [
    "# Using python dictionary\n",
    "\n",
    "list3 = {\n",
    "    \"MTH101\" : 75,\n",
    "    \"CHM101\" : 60,\n",
    "    \"PHY101\" : 100,\n",
    "    \"TPD101\" : \"ENGINEERING\"\n",
    "}\n",
    "\n",
    "series3 = pd.Series(list3, name = \"GRADES\")\n",
    "series3"
   ]
  },
  {
   "cell_type": "code",
   "execution_count": null,
   "id": "50127a57-f6ed-463f-b627-bb88b0df0eed",
   "metadata": {},
   "outputs": [],
   "source": []
  }
 ],
 "metadata": {
  "kernelspec": {
   "display_name": "Python [conda env:base] *",
   "language": "python",
   "name": "conda-base-py"
  },
  "language_info": {
   "codemirror_mode": {
    "name": "ipython",
    "version": 3
   },
   "file_extension": ".py",
   "mimetype": "text/x-python",
   "name": "python",
   "nbconvert_exporter": "python",
   "pygments_lexer": "ipython3",
   "version": "3.13.5"
  }
 },
 "nbformat": 4,
 "nbformat_minor": 5
}
