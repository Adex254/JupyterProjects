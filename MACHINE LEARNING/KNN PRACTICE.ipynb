{
 "cells": [
  {
   "cell_type": "code",
   "execution_count": 10,
   "id": "a1406435-e2da-4c01-b16c-92b8dbb06369",
   "metadata": {},
   "outputs": [
    {
     "name": "stdin",
     "output_type": "stream",
     "text": [
      "Enter Alcohol:  12\n",
      "Enter  Malic acid:  1.5\n",
      "Enter Ash:  2.4\n",
      "Enter Alcanity of ash:  10\n",
      "Enter Magnessium:  100\n",
      "Enter phenols:  1.5\n",
      "Enter Flavnoids:  1.8\n",
      "Enter Nonflavnoids phenols:  0.3\n",
      "Enter Proanth:  1\n",
      "Enter Color intensity:  3\n",
      "Enter Hue:  0.5\n",
      "Enter OD:  3\n",
      "Enter Proline:  580\n"
     ]
    },
    {
     "name": "stdout",
     "output_type": "stream",
     "text": [
      "Prediction class index:  2\n",
      "Prediction name:  class_2\n",
      "Accuracy is: 0.6666666666666666\n"
     ]
    }
   ],
   "source": [
    "from sklearn.datasets import load_wine\n",
    "from sklearn.model_selection import train_test_split\n",
    "from sklearn.neighbors import KNeighborsClassifier\n",
    "from sklearn.metrics import accuracy_score\n",
    "\n",
    "# load the dataset in\n",
    "\n",
    "wine = load_wine()\n",
    "#print(wine)\n",
    "\n",
    "# split wine dataset into features and labels\n",
    "\n",
    "features = wine.data\n",
    "labels = wine.target\n",
    "\n",
    "# split both into train and test\n",
    "\n",
    "features_train, features_test, labels_train, labels_test = train_test_split(\n",
    "    features,\n",
    "    labels,\n",
    "    test_size = 0.3,\n",
    "    random_state = 1,\n",
    "    stratify = labels\n",
    ")\n",
    "\n",
    "# Build the KNN model\n",
    "\n",
    "knn = KNeighborsClassifier(n_neighbors = 3)\n",
    "knn.fit(features_train, labels_train)\n",
    "\n",
    "# new wine\n",
    "Alcohol = float(input(\"Enter Alcohol: \"))\n",
    "malic_acid =  float(input(\"Enter  Malic acid: \"))\n",
    "ash =  float(input(\"Enter Ash: \"))\n",
    "acl =  float(input(\"Enter Alcanity of ash: \"))\n",
    "mg =  float(input(\"Enter Magnessium: \"))\n",
    "phenols =  float(input(\"Enter phenols: \"))\n",
    "flavanoids  =  float(input(\"Enter Flavnoids: \"))\n",
    "nonflav_phenols =  float(input(\"Enter Nonflavnoids phenols: \")) \n",
    "proanth =  float(input(\"Enter Proanth: \"))\n",
    "color_int =  float(input(\"Enter Color intensity: \"))\n",
    "hue =  float(input(\"Enter Hue: \"))\n",
    "od =  float(input(\"Enter OD: \"))\n",
    "proline  =  float(input(\"Enter Proline: \"))\n",
    "\n",
    "\n",
    "new_wine = [[Alcohol, malic_acid, ash, acl, mg, phenols, flavanoids, nonflav_phenols, proanth, color_int, hue, od, proline]]\n",
    "\n",
    "# make predictions\n",
    "prediction = knn.predict(new_wine)\n",
    "print(\"Prediction class index: \", prediction[0])\n",
    "print(\"Prediction name: \", wine.target_names[prediction][0])\n",
    "# accuracy\n",
    " \n",
    "test_predictions = knn.predict(features_test) # this makes the prediction an array\n",
    "# accuracy = accuracy_score(labels_test, predictions)  this is wrong because you can't compare the many tests in labels_test(30% of the total data) to just one prediction\n",
    "accuracy = accuracy_score(labels_test, test_predictions) \n",
    "print(\"Accuracy is:\", accuracy)"
   ]
  },
  {
   "cell_type": "code",
   "execution_count": null,
   "id": "9385388d-3895-42f7-9e2a-1ca7e196e850",
   "metadata": {},
   "outputs": [],
   "source": []
  }
 ],
 "metadata": {
  "kernelspec": {
   "display_name": "Python [conda env:base] *",
   "language": "python",
   "name": "conda-base-py"
  },
  "language_info": {
   "codemirror_mode": {
    "name": "ipython",
    "version": 3
   },
   "file_extension": ".py",
   "mimetype": "text/x-python",
   "name": "python",
   "nbconvert_exporter": "python",
   "pygments_lexer": "ipython3",
   "version": "3.13.5"
  }
 },
 "nbformat": 4,
 "nbformat_minor": 5
}
