{
 "cells": [
  {
   "cell_type": "code",
   "execution_count": 1,
   "id": "64b2557c-0aae-47d0-ad80-c2ac0ddf4450",
   "metadata": {},
   "outputs": [],
   "source": [
    "# Classifying Data with Kneighbors Classifier and making predictions\n",
    "\n",
    "# The required steps are:\n",
    "# Step 1: impport libraries\n",
    "# Step 2: load the dataset in\n",
    "# Step 3: prepare features and labels\n",
    "# Step 4: split train/test\n",
    "# Step 5: Build your KNN model\n",
    "# Step 6: Train, more accurately store in KNN\n",
    "# Step 7: Predict\n",
    "# Step 8: Evaluate\n"
   ]
  },
  {
   "cell_type": "code",
   "execution_count": 31,
   "id": "7b93297f-9f34-4dfe-a45a-fc443cee7c48",
   "metadata": {},
   "outputs": [
    {
     "ename": "AttributeError",
     "evalue": "'function' object has no attribute 'data'",
     "output_type": "error",
     "traceback": [
      "\u001b[1;31m---------------------------------------------------------------------------\u001b[0m",
      "\u001b[1;31mAttributeError\u001b[0m                            Traceback (most recent call last)",
      "Cell \u001b[1;32mIn[31], line 15\u001b[0m\n\u001b[0;32m     12\u001b[0m iris \u001b[38;5;241m=\u001b[39m load_iris\n\u001b[0;32m     14\u001b[0m \u001b[38;5;66;03m# Step 3: prepare the features and labels\u001b[39;00m\n\u001b[1;32m---> 15\u001b[0m X \u001b[38;5;241m=\u001b[39m iris\u001b[38;5;241m.\u001b[39mdata\n\u001b[0;32m     16\u001b[0m Y \u001b[38;5;241m=\u001b[39m iris\u001b[38;5;241m.\u001b[39mtarget\n",
      "\u001b[1;31mAttributeError\u001b[0m: 'function' object has no attribute 'data'"
     ]
    }
   ],
   "source": [
    "# Ex 1 with iris dataset\n",
    "\n",
    "# Step 1: import the libraries\n",
    "\n",
    "from sklearn.datasets import load_iris\n",
    "from sklearn.model_selection import train_test_split\n",
    "from sklearn.neighbors import KNeighborsClassifier\n",
    "from sklearn.metrics import accuracy_score\n",
    "\n",
    "# Step 2: load the dataset\n",
    "\n",
    "iris = load_iris\n",
    "\n",
    "# Step 3: prepare the features and labels\n",
    "X = iris.data\n",
    "Y = iris.target"
   ]
  },
  {
   "cell_type": "code",
   "execution_count": null,
   "id": "d8ce21eb-a64e-4345-9e4a-634e845cfd6f",
   "metadata": {},
   "outputs": [],
   "source": []
  }
 ],
 "metadata": {
  "kernelspec": {
   "display_name": "Python [conda env:base] *",
   "language": "python",
   "name": "conda-base-py"
  },
  "language_info": {
   "codemirror_mode": {
    "name": "ipython",
    "version": 3
   },
   "file_extension": ".py",
   "mimetype": "text/x-python",
   "name": "python",
   "nbconvert_exporter": "python",
   "pygments_lexer": "ipython3",
   "version": "3.13.5"
  }
 },
 "nbformat": 4,
 "nbformat_minor": 5
}
