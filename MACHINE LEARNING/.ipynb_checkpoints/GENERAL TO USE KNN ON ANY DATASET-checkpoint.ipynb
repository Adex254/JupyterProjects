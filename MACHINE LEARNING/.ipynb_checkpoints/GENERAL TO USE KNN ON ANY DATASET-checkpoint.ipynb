{
 "cells": [
  {
   "cell_type": "code",
   "execution_count": null,
   "id": "a76cddce-548a-4638-8899-e08b898609a7",
   "metadata": {},
   "outputs": [],
   "source": [
    "# General steps to use KNN on Any dataset\n",
    "# 1: Import Libraries and Load the dataset\n",
    "# 2:  Separate features(X) and labels(y)\n",
    "# 3: Split into train/test sets\n",
    "# 4: Build and train the KNN model\n",
    "# 5: Evaluate the model"
   ]
  },
  {
   "cell_type": "code",
   "execution_count": null,
   "id": "b28f9eaf-ed43-4a02-8ac3-0021509adc4b",
   "metadata": {},
   "outputs": [],
   "source": [
    "# 1: How to import and load the dataset\n",
    "# 1a. Loading a CSV file\n",
    "# Ex 1a(i)\n",
    "\n",
    "import pandas as pd\n",
    "\n",
    "# load the diabetes dataset in\n",
    "diab_df = pd.read_csv(r\"C:\\Users\\adead\\Downloads\\diabetes.csv\")\n",
    "#print(diab_df.head())\n",
    "#print(diab_df.shape) # prints num of rows, num of columns => 8 columns and one row\n",
    "print(diab_df.info())"
   ]
  },
  {
   "cell_type": "code",
   "execution_count": null,
   "id": "f1321d17-cd2a-4327-98f8-1688ef984f59",
   "metadata": {},
   "outputs": [],
   "source": [
    "# Ex 1a(ii)\n",
    "import pandas as pd\n",
    "\n",
    "sports_df = pd.read_csv(r\"C:\\Users\\adead\\Downloads\\csv dataset for practice\\sports.csv.zip\")\n",
    "\n",
    "#print(sports_df.head())\n",
    "print(sports_df.shape)\n",
    "#print(sports_df.info())"
   ]
  },
  {
   "cell_type": "code",
   "execution_count": null,
   "id": "c9156b1f-7ebf-4d04-ac2f-0da1957846dc",
   "metadata": {},
   "outputs": [],
   "source": [
    "# Ex 1a(iii)\n",
    "import pandas as pd\n",
    "\n",
    "adult_data_df = pd.read_csv(r\"C:\\Users\\adead\\Downloads\\csv dataset for practice\\adult\\adult.data\")\n",
    "#print(adult_data_df.head())\n",
    "#print(adult_data_df.shape)\n",
    "#print(adult_data_df.info())\n"
   ]
  },
  {
   "cell_type": "code",
   "execution_count": null,
   "id": "c881e088-fa8f-457f-b56d-44cc027f46e5",
   "metadata": {},
   "outputs": [],
   "source": [
    "# Ex 1a(iv)\n",
    "import pandas as pd\n",
    "\n",
    "bank_df = pd.read_csv(r\"C:\\Users\\adead\\Downloads\\csv dataset for practice\\bank+marketing\\bank\\bank.csv\")\n",
    "print(bank_df.head())\n"
   ]
  },
  {
   "cell_type": "code",
   "execution_count": null,
   "id": "41023259-ae18-420e-9acf-afd85d376c37",
   "metadata": {},
   "outputs": [],
   "source": [
    "# 1b  Loading an excel file (.xls or .xlsx)\n",
    "# Ex 1b(i)\n",
    "import pandas as pd\n",
    "\n",
    "# check the sheets in the excel file\n",
    "\n",
    "excel_file = r\"C:\\Users\\adead\\Downloads\\excel dataset for practice\\Engineering-and-Manufacturing-Sample-Data.xlsx\"\n",
    "xls = pd.ExcelFile(excel_file)\n",
    "print(xls.sheet_names)\n",
    "\n",
    "eng_man_df = pd.read_excel(excel_file)\n",
    "print(eng_man_df.head())"
   ]
  },
  {
   "cell_type": "code",
   "execution_count": null,
   "id": "06682399-fc62-440b-9de0-6b0132be4f03",
   "metadata": {},
   "outputs": [],
   "source": [
    "# Ex 1b(ii)\n",
    "import pandas as pd\n",
    "\n",
    "excel_file = r\"C:\\Users\\adead\\Downloads\\excel dataset for practice\\Netflix-Movies-Sample-Data.xlsx\"\n",
    "xls = pd.ExcelFile(excel_file)\n",
    "print(xls.sheet_names)\n",
    "\n",
    "movies_df = pd.read_excel(excel_file, 'Movies')\n",
    "print(movies_df.head())"
   ]
  },
  {
   "cell_type": "code",
   "execution_count": null,
   "id": "a9a6789f-17bc-4b51-b24c-9dde751b6c4c",
   "metadata": {},
   "outputs": [],
   "source": [
    "# Ex 1b(iii)\n",
    "import pandas as pd\n",
    "\n",
    "excel_file = r\"C:\\Users\\adead\\Downloads\\excel dataset for practice\\Healthcare-Insurance-Sample-Data.xlsx\"\n",
    "xls = pd.ExcelFile(excel_file)\n",
    "print(xls.sheet_names)\n",
    "\n",
    "HIns_df = pd.read_excel(excel_file)\n",
    "print(HIns_df.tail())"
   ]
  },
  {
   "cell_type": "code",
   "execution_count": null,
   "id": "75acbc8f-9303-494e-8d50-283a036294bb",
   "metadata": {},
   "outputs": [],
   "source": [
    "# Ex 1b(iv)\n",
    "import pandas as pd\n",
    "\n",
    "# check the number of sheets in there\n",
    "\n",
    "excel_file = r\"C:\\Users\\adead\\Downloads\\excel dataset for practice\\2022-FIFA-World-Cup-Performance-Sample-Data.xlsx\"\n",
    "xls = pd.ExcelFile(excel_file)\n",
    "print(xls.sheet_names)\n",
    "\n",
    "# print from the sheets\n",
    "Fifa_2022_world_cup_Performance_df = pd.read_excel(excel_file, sheet_name = 'FIFA World Cup Performance')\n",
    "\n",
    "print(Fifa_2022_world_cup_Performance_df.head())"
   ]
  },
  {
   "cell_type": "code",
   "execution_count": null,
   "id": "61bfec50-8aa1-4d87-999f-61bf8ade2d59",
   "metadata": {},
   "outputs": [],
   "source": [
    "# Ex 1b(v)\n",
    "import pandas as pd\n",
    "\n",
    "# check the number of sheets in the excel file\n",
    " \n",
    "xls = pd.ExcelFile(r\"C:\\Users\\adead\\Downloads\\excel dataset for practice\\General-Ledger.xlsx\")\n",
    "print(xls.sheet_names)  # outputs ['Sheet1']\n",
    "\n",
    "# print the sheet you want\n",
    "generalLedger_df = pd.read_excel(r\"C:\\Users\\adead\\Downloads\\excel dataset for practice\\General-Ledger.xlsx\")\n",
    "print(generalLedger_df.shape)\n",
    "print(generalLedger_df.info())"
   ]
  },
  {
   "cell_type": "code",
   "execution_count": null,
   "id": "5d9c0cf0-1fa2-4d3e-aa81-b2088543312a",
   "metadata": {},
   "outputs": [],
   "source": [
    "# Ex 1b(vi)\n",
    "import pandas as pd\n",
    "\n",
    "# check the sheets in the excel path\n",
    "xls = pd.ExcelFile(r\"C:\\Users\\adead\\Downloads\\excel dataset for practice\\Financial Sample.xlsx\")\n",
    "print(xls.sheet_names) # outputs ['Sheet1']\n",
    "\n",
    "# print the sheet that you want\n",
    "\n",
    "financial_sample_df = pd.read_excel(r\"C:\\Users\\adead\\Downloads\\excel dataset for practice\\Financial Sample.xlsx\", sheet_name = 'Sheet1')\n",
    "print(financial_sample_df.head())"
   ]
  },
  {
   "cell_type": "code",
   "execution_count": null,
   "id": "49c57a65-4489-482e-a38e-770daae39898",
   "metadata": {},
   "outputs": [],
   "source": [
    "# 1c Loading a JSON file\n",
    "# 1c(i)  pd.read_json(json_file) if the json file looks like a table with rows and columns\n",
    "\n",
    "import pandas as pd\n",
    "\n",
    "json_file = r\"C:\\Users\\adead\\Downloads\\JSON dataset for practice\\house-price-parquet.json\"\n",
    "\n",
    "housePrice_df = pd.read_json(json_file)\n",
    "print(housePrice_df.head())"
   ]
  },
  {
   "cell_type": "code",
   "execution_count": null,
   "id": "b3bf53a8-8ba2-4fff-912d-942a9ebf0bcf",
   "metadata": {},
   "outputs": [],
   "source": [
    "# 1c(ii)  Using Python's built in JSON libraries if the json files is a nested dictionaries (for multiple json files\n",
    "\n",
    "import json\n",
    "import pandas as pd \n",
    "\n",
    "with open(r\"C:\\Users\\adead\\Downloads\\JSON dataset for practice\\titanic-parquet.json\") as f:\n",
    "    data =  [json.loads(line) for line in f]\n",
    "\n",
    "print(type(data)) # check if it's a dict or list\n",
    "print(data)"
   ]
  },
  {
   "cell_type": "code",
   "execution_count": 1,
   "id": "a62f8bb0-f2ce-4342-8a28-d99e7d693103",
   "metadata": {},
   "outputs": [],
   "source": [
    "# 1d   Loading a SQL database\n"
   ]
  },
  {
   "cell_type": "code",
   "execution_count": null,
   "id": "d7f32240-0433-4958-a0df-7365d209e319",
   "metadata": {},
   "outputs": [],
   "source": []
  },
  {
   "cell_type": "code",
   "execution_count": null,
   "id": "50e70088-3303-4231-819e-409d6151443d",
   "metadata": {},
   "outputs": [],
   "source": []
  },
  {
   "cell_type": "code",
   "execution_count": 2,
   "id": "00536e7b-cb12-4740-a744-2d429ed62764",
   "metadata": {},
   "outputs": [],
   "source": [
    "# Step 2: Prepare features X and labels Y\n",
    "# features = name of dataset.data\n",
    "# labels = name of dataset.targets\n",
    "\n"
   ]
  },
  {
   "cell_type": "code",
   "execution_count": 3,
   "id": "1f759e0b-f824-4617-a8c7-c08a646e60d9",
   "metadata": {},
   "outputs": [],
   "source": [
    "# Step 3: Split the dataset into training and testing\n",
    "# use train_test_split "
   ]
  },
  {
   "cell_type": "code",
   "execution_count": 4,
   "id": "f17a6df9-daae-42ed-b09d-ca6ea003137b",
   "metadata": {},
   "outputs": [],
   "source": [
    "# Step 4: Build and Train the KNN Model\n",
    "# use KNeighborsClassifier(n_neighbors = k), where k is an integer\n",
    "# Train with .fit(X_train, Y_train)\n"
   ]
  },
  {
   "cell_type": "code",
   "execution_count": null,
   "id": "81d60b6c-4d31-4fff-987f-91402395e4f5",
   "metadata": {},
   "outputs": [],
   "source": [
    "# Step 5: Predict and Evaluate\n",
    "# use .predict() on new or unseen data\n",
    "# compare predictions with actual test labels using accuracy_score"
   ]
  }
 ],
 "metadata": {
  "kernelspec": {
   "display_name": "Python [conda env:base] *",
   "language": "python",
   "name": "conda-base-py"
  },
  "language_info": {
   "codemirror_mode": {
    "name": "ipython",
    "version": 3
   },
   "file_extension": ".py",
   "mimetype": "text/x-python",
   "name": "python",
   "nbconvert_exporter": "python",
   "pygments_lexer": "ipython3",
   "version": "3.13.5"
  }
 },
 "nbformat": 4,
 "nbformat_minor": 5
}
